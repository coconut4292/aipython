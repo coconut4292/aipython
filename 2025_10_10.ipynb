{
  "nbformat": 4,
  "nbformat_minor": 0,
  "metadata": {
    "colab": {
      "provenance": [],
      "authorship_tag": "ABX9TyMs/fLbtC4iculmlbyCdxL8",
      "include_colab_link": true
    },
    "kernelspec": {
      "name": "python3",
      "display_name": "Python 3"
    },
    "language_info": {
      "name": "python"
    }
  },
  "cells": [
    {
      "cell_type": "markdown",
      "metadata": {
        "id": "view-in-github",
        "colab_type": "text"
      },
      "source": [
        "<a href=\"https://colab.research.google.com/github/coconut4292/aipython/blob/main/2025_10_10.ipynb\" target=\"_parent\"><img src=\"https://colab.research.google.com/assets/colab-badge.svg\" alt=\"Open In Colab\"/></a>"
      ]
    },
    {
      "cell_type": "code",
      "execution_count": 5,
      "metadata": {
        "id": "T3YoJ_-4gRqS"
      },
      "outputs": [],
      "source": [
        "alp = ['a', 'b', 'c', 'd', 'e']\n",
        "nums = [1, 2, 3, 4, 5]\n",
        "prices = [1000, 2500, 3000, 1500, 5000]"
      ]
    },
    {
      "cell_type": "code",
      "source": [
        "alp"
      ],
      "metadata": {
        "colab": {
          "base_uri": "https://localhost:8080/"
        },
        "id": "aSCDk6iklCKk",
        "outputId": "e8b84231-c89d-4eac-8e3e-eaad0129a20a"
      },
      "execution_count": 6,
      "outputs": [
        {
          "output_type": "execute_result",
          "data": {
            "text/plain": [
              "['a', 'b', 'c', 'd', 'e']"
            ]
          },
          "metadata": {},
          "execution_count": 6
        }
      ]
    },
    {
      "cell_type": "code",
      "source": [
        "nums"
      ],
      "metadata": {
        "colab": {
          "base_uri": "https://localhost:8080/"
        },
        "id": "quYsmMlfl0Mz",
        "outputId": "d63a96cd-ae65-41ab-f5df-454dbf59b7dc"
      },
      "execution_count": 7,
      "outputs": [
        {
          "output_type": "execute_result",
          "data": {
            "text/plain": [
              "[1, 2, 3, 4, 5]"
            ]
          },
          "metadata": {},
          "execution_count": 7
        }
      ]
    },
    {
      "cell_type": "code",
      "source": [
        "prices"
      ],
      "metadata": {
        "colab": {
          "base_uri": "https://localhost:8080/"
        },
        "id": "P3QMIWpwl1dz",
        "outputId": "43e241d8-7250-4360-b5ad-62ff0ab901fd"
      },
      "execution_count": 8,
      "outputs": [
        {
          "output_type": "execute_result",
          "data": {
            "text/plain": [
              "[1000, 2500, 3000, 1500, 5000]"
            ]
          },
          "metadata": {},
          "execution_count": 8
        }
      ]
    },
    {
      "cell_type": "code",
      "source": [
        "for i in range(len(nums)):\n",
        "  nums[i] = nums[i] * 10\n",
        "  #range 값 입력할 때 range(시작값, 종료값, 증감값). 시작값, 증감값은 선택, 종료값은 필수\n",
        "  #len은 리스트의 길이, 즉 요소의 개수 이므로 len(nums)라고 하면 5가 되어 마지막 값이 됨"
      ],
      "metadata": {
        "id": "aB2YHaxsl2gS"
      },
      "execution_count": 11,
      "outputs": []
    },
    {
      "cell_type": "code",
      "source": [
        "nums"
      ],
      "metadata": {
        "colab": {
          "base_uri": "https://localhost:8080/"
        },
        "id": "ZGPGU1y8mYLy",
        "outputId": "6f42246f-4bc4-478b-c218-3070c339fc2f"
      },
      "execution_count": 10,
      "outputs": [
        {
          "output_type": "execute_result",
          "data": {
            "text/plain": [
              "[10, 20, 30, 40, 50]"
            ]
          },
          "metadata": {},
          "execution_count": 10
        }
      ]
    },
    {
      "cell_type": "code",
      "source": [
        "books = []"
      ],
      "metadata": {
        "id": "LwVLrqaimZL7"
      },
      "execution_count": 12,
      "outputs": []
    },
    {
      "cell_type": "code",
      "source": [
        "books.append('파이썬')\n",
        "#리스트.함수 사용(or 객체.메소드 라는 용어 사용하기도 함)"
      ],
      "metadata": {
        "id": "n04hL3hOnpYI"
      },
      "execution_count": 13,
      "outputs": []
    },
    {
      "cell_type": "code",
      "source": [
        "books.append('C')"
      ],
      "metadata": {
        "id": "eNg_6zyHnvMa"
      },
      "execution_count": 14,
      "outputs": []
    },
    {
      "cell_type": "code",
      "source": [
        "books.append('자바')"
      ],
      "metadata": {
        "id": "rrpZixegnzUw"
      },
      "execution_count": 15,
      "outputs": []
    },
    {
      "cell_type": "code",
      "source": [
        "books"
      ],
      "metadata": {
        "colab": {
          "base_uri": "https://localhost:8080/"
        },
        "id": "3P3I7Q9Ln2zi",
        "outputId": "cea61e57-dc08-43eb-e8e3-1840ba7a0bac"
      },
      "execution_count": 16,
      "outputs": [
        {
          "output_type": "execute_result",
          "data": {
            "text/plain": [
              "['파이썬', 'C', '자바']"
            ]
          },
          "metadata": {},
          "execution_count": 16
        }
      ]
    },
    {
      "cell_type": "code",
      "source": [
        "books.insert(2, 'GO')"
      ],
      "metadata": {
        "id": "fctDK9kxn30x"
      },
      "execution_count": 19,
      "outputs": []
    },
    {
      "cell_type": "code",
      "source": [
        "books"
      ],
      "metadata": {
        "colab": {
          "base_uri": "https://localhost:8080/"
        },
        "id": "5x1idbr3oj1w",
        "outputId": "a3560782-0838-4e34-d455-b3e3e4c44ae6"
      },
      "execution_count": 20,
      "outputs": [
        {
          "output_type": "execute_result",
          "data": {
            "text/plain": [
              "['파이썬', 'C', 'GO', 'go', '자바']"
            ]
          },
          "metadata": {},
          "execution_count": 20
        }
      ]
    },
    {
      "cell_type": "code",
      "source": [
        "del books[3]"
      ],
      "metadata": {
        "id": "o__L6qD6okpg"
      },
      "execution_count": 21,
      "outputs": []
    },
    {
      "cell_type": "code",
      "source": [
        "books"
      ],
      "metadata": {
        "colab": {
          "base_uri": "https://localhost:8080/"
        },
        "id": "ZlUdYV7QoyhX",
        "outputId": "402d8c42-a4d3-41f9-f5c0-bff4c861c6ff"
      },
      "execution_count": 22,
      "outputs": [
        {
          "output_type": "execute_result",
          "data": {
            "text/plain": [
              "['파이썬', 'C', 'GO', '자바']"
            ]
          },
          "metadata": {},
          "execution_count": 22
        }
      ]
    },
    {
      "cell_type": "code",
      "source": [
        "books.extend(['C++', 'Pascal'])"
      ],
      "metadata": {
        "id": "z4Lw9qAoozFX"
      },
      "execution_count": 23,
      "outputs": []
    },
    {
      "cell_type": "code",
      "source": [
        "books"
      ],
      "metadata": {
        "colab": {
          "base_uri": "https://localhost:8080/"
        },
        "id": "M20h3CFJpDB3",
        "outputId": "7e30e815-387d-499b-f565-f56de43d7620"
      },
      "execution_count": 24,
      "outputs": [
        {
          "output_type": "execute_result",
          "data": {
            "text/plain": [
              "['파이썬', 'C', 'GO', '자바', 'C++', 'Pascal']"
            ]
          },
          "metadata": {},
          "execution_count": 24
        }
      ]
    },
    {
      "cell_type": "code",
      "source": [
        "books.pop()"
      ],
      "metadata": {
        "colab": {
          "base_uri": "https://localhost:8080/",
          "height": 35
        },
        "id": "aDrptuQ0pD3P",
        "outputId": "fe690e13-3835-40e8-e747-58d17a5f457a"
      },
      "execution_count": 25,
      "outputs": [
        {
          "output_type": "execute_result",
          "data": {
            "text/plain": [
              "'Pascal'"
            ],
            "application/vnd.google.colaboratory.intrinsic+json": {
              "type": "string"
            }
          },
          "metadata": {},
          "execution_count": 25
        }
      ]
    },
    {
      "cell_type": "code",
      "source": [
        "books.remove('C')"
      ],
      "metadata": {
        "id": "MzsWdOo7pcF3"
      },
      "execution_count": 26,
      "outputs": []
    },
    {
      "cell_type": "code",
      "source": [
        "books"
      ],
      "metadata": {
        "colab": {
          "base_uri": "https://localhost:8080/"
        },
        "id": "7CuLnS0Tp5We",
        "outputId": "5f77e4f9-3a81-45d6-c3b6-528e0f8a2ceb"
      },
      "execution_count": 27,
      "outputs": [
        {
          "output_type": "execute_result",
          "data": {
            "text/plain": [
              "['파이썬', 'GO', '자바', 'C++']"
            ]
          },
          "metadata": {},
          "execution_count": 27
        }
      ]
    },
    {
      "cell_type": "code",
      "source": [
        "books.clear()"
      ],
      "metadata": {
        "id": "Ih5gp8lhp6jW"
      },
      "execution_count": 28,
      "outputs": []
    },
    {
      "cell_type": "code",
      "source": [
        "books"
      ],
      "metadata": {
        "colab": {
          "base_uri": "https://localhost:8080/"
        },
        "id": "RX1wK6SIqG5-",
        "outputId": "19ec4fb2-4895-4cc9-9da3-996592a6a2a5"
      },
      "execution_count": 29,
      "outputs": [
        {
          "output_type": "execute_result",
          "data": {
            "text/plain": [
              "[]"
            ]
          },
          "metadata": {},
          "execution_count": 29
        }
      ]
    },
    {
      "cell_type": "code",
      "source": [
        "nums.reverse()"
      ],
      "metadata": {
        "id": "RUvpWpaTqHZm"
      },
      "execution_count": 30,
      "outputs": []
    },
    {
      "cell_type": "code",
      "source": [
        "nums"
      ],
      "metadata": {
        "colab": {
          "base_uri": "https://localhost:8080/"
        },
        "id": "OIW3Nv6IqZQe",
        "outputId": "c9bfe896-7cd2-48e4-f0df-2f984029e6e2"
      },
      "execution_count": 31,
      "outputs": [
        {
          "output_type": "execute_result",
          "data": {
            "text/plain": [
              "[500, 400, 300, 200, 100]"
            ]
          },
          "metadata": {},
          "execution_count": 31
        }
      ]
    },
    {
      "cell_type": "code",
      "source": [
        "nums.sort(reverse=True)"
      ],
      "metadata": {
        "id": "cEnWOlGVqZzu"
      },
      "execution_count": 34,
      "outputs": []
    },
    {
      "cell_type": "code",
      "source": [
        "nums"
      ],
      "metadata": {
        "colab": {
          "base_uri": "https://localhost:8080/"
        },
        "id": "P7yIcZDiqkie",
        "outputId": "5db795d5-c5ba-455e-e9b0-92bf63c1df14"
      },
      "execution_count": 35,
      "outputs": [
        {
          "output_type": "execute_result",
          "data": {
            "text/plain": [
              "[500, 400, 300, 200, 100]"
            ]
          },
          "metadata": {},
          "execution_count": 35
        }
      ]
    },
    {
      "cell_type": "code",
      "source": [
        "books = ['파이썬', 'C', 'GO', '자바', 'C++', 'pascal']"
      ],
      "metadata": {
        "id": "ovbQZdvcqlAm"
      },
      "execution_count": 36,
      "outputs": []
    },
    {
      "cell_type": "code",
      "source": [
        "books"
      ],
      "metadata": {
        "colab": {
          "base_uri": "https://localhost:8080/"
        },
        "id": "GaH5fkfUrSrF",
        "outputId": "bf03c83e-9e3b-48e2-8525-c3ad4958ec10"
      },
      "execution_count": 37,
      "outputs": [
        {
          "output_type": "execute_result",
          "data": {
            "text/plain": [
              "['파이썬', 'C', 'GO', '자바', 'C++', 'pascal']"
            ]
          },
          "metadata": {},
          "execution_count": 37
        }
      ]
    },
    {
      "cell_type": "code",
      "source": [
        "'자바' in books"
      ],
      "metadata": {
        "colab": {
          "base_uri": "https://localhost:8080/"
        },
        "id": "NmtiUpbTrTTl",
        "outputId": "e2f3b900-0452-40fe-fbc5-a3523f6e8595"
      },
      "execution_count": 38,
      "outputs": [
        {
          "output_type": "execute_result",
          "data": {
            "text/plain": [
              "True"
            ]
          },
          "metadata": {},
          "execution_count": 38
        }
      ]
    },
    {
      "cell_type": "code",
      "source": [
        "'java' in books"
      ],
      "metadata": {
        "colab": {
          "base_uri": "https://localhost:8080/"
        },
        "id": "CqtP0y1frVsN",
        "outputId": "390675b6-1573-46a8-c57e-48503d1bb59f"
      },
      "execution_count": 39,
      "outputs": [
        {
          "output_type": "execute_result",
          "data": {
            "text/plain": [
              "False"
            ]
          },
          "metadata": {},
          "execution_count": 39
        }
      ]
    },
    {
      "cell_type": "code",
      "source": [
        "books.index('자바')"
      ],
      "metadata": {
        "colab": {
          "base_uri": "https://localhost:8080/"
        },
        "id": "Cgo_5NxHraDc",
        "outputId": "e71d35d0-a246-46ca-f7cb-a2420c6795bf"
      },
      "execution_count": 40,
      "outputs": [
        {
          "output_type": "execute_result",
          "data": {
            "text/plain": [
              "3"
            ]
          },
          "metadata": {},
          "execution_count": 40
        }
      ]
    },
    {
      "cell_type": "code",
      "source": [
        "import random\n",
        "random.choice(books)"
      ],
      "metadata": {
        "colab": {
          "base_uri": "https://localhost:8080/",
          "height": 35
        },
        "id": "8mjnF7mPrkuu",
        "outputId": "a3982771-6a1e-4ff9-c788-cc17f8bb139c"
      },
      "execution_count": 44,
      "outputs": [
        {
          "output_type": "execute_result",
          "data": {
            "text/plain": [
              "'C++'"
            ],
            "application/vnd.google.colaboratory.intrinsic+json": {
              "type": "string"
            }
          },
          "metadata": {},
          "execution_count": 44
        }
      ]
    },
    {
      "cell_type": "code",
      "source": [
        "len(books)"
      ],
      "metadata": {
        "colab": {
          "base_uri": "https://localhost:8080/"
        },
        "id": "r8_Nk5f3r8uU",
        "outputId": "4f4a675a-6e3f-4535-99c6-f21f7ca407f5"
      },
      "execution_count": 45,
      "outputs": [
        {
          "output_type": "execute_result",
          "data": {
            "text/plain": [
              "6"
            ]
          },
          "metadata": {},
          "execution_count": 45
        }
      ]
    },
    {
      "cell_type": "code",
      "source": [
        "max(nums)"
      ],
      "metadata": {
        "colab": {
          "base_uri": "https://localhost:8080/"
        },
        "id": "WUf2RK2RsQLc",
        "outputId": "dac134d9-8df3-4c74-8549-669d8358e72a"
      },
      "execution_count": 47,
      "outputs": [
        {
          "output_type": "execute_result",
          "data": {
            "text/plain": [
              "500"
            ]
          },
          "metadata": {},
          "execution_count": 47
        }
      ]
    },
    {
      "cell_type": "code",
      "source": [
        "min(nums)"
      ],
      "metadata": {
        "colab": {
          "base_uri": "https://localhost:8080/"
        },
        "id": "UyUMM2ZXsSzs",
        "outputId": "edb3a2f7-901d-4c4c-cde6-49e68d46facb"
      },
      "execution_count": 48,
      "outputs": [
        {
          "output_type": "execute_result",
          "data": {
            "text/plain": [
              "100"
            ]
          },
          "metadata": {},
          "execution_count": 48
        }
      ]
    },
    {
      "cell_type": "code",
      "source": [
        "sum(nums)"
      ],
      "metadata": {
        "colab": {
          "base_uri": "https://localhost:8080/"
        },
        "id": "UFRdJM0nsaAr",
        "outputId": "edb6b85c-5606-43a9-923a-469d73594fab"
      },
      "execution_count": 49,
      "outputs": [
        {
          "output_type": "execute_result",
          "data": {
            "text/plain": [
              "1500"
            ]
          },
          "metadata": {},
          "execution_count": 49
        }
      ]
    },
    {
      "cell_type": "code",
      "source": [
        "total = 0\n",
        "for a in range(len(prices)):\n",
        "  total += prices[a]\n",
        "print(total)"
      ],
      "metadata": {
        "colab": {
          "base_uri": "https://localhost:8080/"
        },
        "id": "l7N2XZH_sdsM",
        "outputId": "9a511303-cbe2-4150-fcfa-33c9b08396f4"
      },
      "execution_count": 53,
      "outputs": [
        {
          "output_type": "stream",
          "name": "stdout",
          "text": [
            "13000\n"
          ]
        }
      ]
    },
    {
      "cell_type": "code",
      "metadata": {
        "id": "3b97cf0d"
      },
      "source": [
        "dynasties = [\n",
        "    '태조', '정종', '태종', '세종', '문종', '단종', '세조', '예종', '성종', '연산군',\n",
        "    '중종', '인종', '명종', '선조', '광해군', '인조', '효종', '현종', '숙종', '경종',\n",
        "    '영조', '정조', '순조', '헌종', '철종', '고종', '순종'\n",
        "]"
      ],
      "execution_count": 55,
      "outputs": []
    },
    {
      "cell_type": "code",
      "source": [
        "for i in range(len(dynasties)):\n",
        "  print(f\"{i+1}대 {dynasties[i]}\")"
      ],
      "metadata": {
        "colab": {
          "base_uri": "https://localhost:8080/"
        },
        "id": "e1WdmK-huO9D",
        "outputId": "7b697b8b-9aa4-4e91-f461-c85105e2db28"
      },
      "execution_count": 58,
      "outputs": [
        {
          "output_type": "stream",
          "name": "stdout",
          "text": [
            "1대 태조\n",
            "2대 정종\n",
            "3대 태종\n",
            "4대 세종\n",
            "5대 문종\n",
            "6대 단종\n",
            "7대 세조\n",
            "8대 예종\n",
            "9대 성종\n",
            "10대 연산군\n",
            "11대 중종\n",
            "12대 인종\n",
            "13대 명종\n",
            "14대 선조\n",
            "15대 광해군\n",
            "16대 인조\n",
            "17대 효종\n",
            "18대 현종\n",
            "19대 숙종\n",
            "20대 경종\n",
            "21대 영조\n",
            "22대 정조\n",
            "23대 순조\n",
            "24대 헌종\n",
            "25대 철종\n",
            "26대 고종\n",
            "27대 순종\n"
          ]
        }
      ]
    },
    {
      "cell_type": "code",
      "source": [],
      "metadata": {
        "id": "UpT5MP7yvLPa"
      },
      "execution_count": null,
      "outputs": []
    },
    {
      "cell_type": "code",
      "metadata": {
        "colab": {
          "base_uri": "https://localhost:8080/"
        },
        "id": "1c7f53f4",
        "outputId": "4d6bfc78-79a9-40fa-83c9-02c41c1db57e"
      },
      "source": [
        "# 백슬래시 출력\n",
        "print(\"백슬래시: \\\\\")\n",
        "\n",
        "# 작은따옴표 출력 (큰따옴표로 문자열을 감싼 경우)\n",
        "print(\"작은따옴표: \\'\")\n",
        "\n",
        "# 큰따옴표 출력 (작은따옴표로 문자열을 감싼 경우)\n",
        "print('큰따옴표: \\\"')\n",
        "\n",
        "# 탭 문자 사용\n",
        "print(\"이름:\\t홍길동\")\n",
        "\n",
        "# 캐리지 리턴 사용 (일부 환경에서는 이전 내용을 덮어쓸 수 있습니다)\n",
        "print(\"ABC\\rDEF\")"
      ],
      "execution_count": 60,
      "outputs": [
        {
          "output_type": "stream",
          "name": "stdout",
          "text": [
            "백슬래시: \\\n",
            "작은따옴표: '\n",
            "큰따옴표: \"\n",
            "이름:\t홍길동\n",
            "ABC\rDEF\n"
          ]
        }
      ]
    },
    {
      "cell_type": "code",
      "source": [
        "char1 = '\\'한글\\'사용법'"
      ],
      "metadata": {
        "id": "Cyr7v6_L0fdc"
      },
      "execution_count": 67,
      "outputs": []
    },
    {
      "cell_type": "code",
      "source": [
        "char1"
      ],
      "metadata": {
        "colab": {
          "base_uri": "https://localhost:8080/",
          "height": 35
        },
        "id": "8ZHG1IUf0l-c",
        "outputId": "3d06a625-e5b6-4016-d16b-cd2604ed81ea"
      },
      "execution_count": 68,
      "outputs": [
        {
          "output_type": "execute_result",
          "data": {
            "text/plain": [
              "\"'한글'사용법\""
            ],
            "application/vnd.google.colaboratory.intrinsic+json": {
              "type": "string"
            }
          },
          "metadata": {},
          "execution_count": 68
        }
      ]
    },
    {
      "cell_type": "code",
      "metadata": {
        "colab": {
          "base_uri": "https://localhost:8080/"
        },
        "id": "bf9240c5",
        "outputId": "df55e0f2-f5b9-4564-d374-4467e98112fa"
      },
      "source": [
        "# \\n (줄바꿈) 사용\n",
        "print(\"첫 번째 줄\\n두 번째 줄\\n세 번째 줄\")\n",
        "\n",
        "#print를 사용해서 출력하면 \\를 사용해 나타내고자 하는 것을 볼 수 있음"
      ],
      "execution_count": 74,
      "outputs": [
        {
          "output_type": "stream",
          "name": "stdout",
          "text": [
            "첫 번째 줄\n",
            "두 번째 줄\n",
            "세 번째 줄\n"
          ]
        }
      ]
    },
    {
      "cell_type": "code",
      "source": [
        "print(char1)"
      ],
      "metadata": {
        "colab": {
          "base_uri": "https://localhost:8080/"
        },
        "id": "K5IZU_b61hwj",
        "outputId": "6af2b7e2-696a-4d5b-ef9f-a52e8ef732ed"
      },
      "execution_count": 75,
      "outputs": [
        {
          "output_type": "stream",
          "name": "stdout",
          "text": [
            "'한글'사용법\n"
          ]
        }
      ]
    },
    {
      "cell_type": "code",
      "source": [
        "char2 = '메뉴얼'"
      ],
      "metadata": {
        "id": "1H2saez_1oAy"
      },
      "execution_count": 76,
      "outputs": []
    },
    {
      "cell_type": "code",
      "source": [
        "print(char1 + char2)"
      ],
      "metadata": {
        "colab": {
          "base_uri": "https://localhost:8080/"
        },
        "id": "EHpk7MnD13wE",
        "outputId": "df3a6acc-3629-4f53-cf9b-af22ccbf5d75"
      },
      "execution_count": 78,
      "outputs": [
        {
          "output_type": "stream",
          "name": "stdout",
          "text": [
            "'한글'사용법메뉴얼\n"
          ]
        }
      ]
    },
    {
      "cell_type": "code",
      "source": [
        "s = 'hello' * 5"
      ],
      "metadata": {
        "id": "mQ_jcyjy174r"
      },
      "execution_count": 79,
      "outputs": []
    },
    {
      "cell_type": "code",
      "source": [
        "s"
      ],
      "metadata": {
        "colab": {
          "base_uri": "https://localhost:8080/",
          "height": 35
        },
        "id": "RrjQGxQd2LHy",
        "outputId": "782e9e49-2dfc-4cff-c039-d648267288ad"
      },
      "execution_count": 80,
      "outputs": [
        {
          "output_type": "execute_result",
          "data": {
            "text/plain": [
              "'hellohellohellohellohello'"
            ],
            "application/vnd.google.colaboratory.intrinsic+json": {
              "type": "string"
            }
          },
          "metadata": {},
          "execution_count": 80
        }
      ]
    },
    {
      "cell_type": "code",
      "source": [
        "'Python'.lower()"
      ],
      "metadata": {
        "colab": {
          "base_uri": "https://localhost:8080/",
          "height": 35
        },
        "id": "SBN_gaMl2LYa",
        "outputId": "dccb3f08-0b86-4d2a-99e4-e039060c6e03"
      },
      "execution_count": 81,
      "outputs": [
        {
          "output_type": "execute_result",
          "data": {
            "text/plain": [
              "'python'"
            ],
            "application/vnd.google.colaboratory.intrinsic+json": {
              "type": "string"
            }
          },
          "metadata": {},
          "execution_count": 81
        }
      ]
    },
    {
      "cell_type": "code",
      "source": [
        "'Python'.upper()"
      ],
      "metadata": {
        "colab": {
          "base_uri": "https://localhost:8080/",
          "height": 35
        },
        "id": "y0x6f2qM23qy",
        "outputId": "49edb8cd-675a-41d3-eaff-3c71a39704ce"
      },
      "execution_count": 82,
      "outputs": [
        {
          "output_type": "execute_result",
          "data": {
            "text/plain": [
              "'PYTHON'"
            ],
            "application/vnd.google.colaboratory.intrinsic+json": {
              "type": "string"
            }
          },
          "metadata": {},
          "execution_count": 82
        }
      ]
    },
    {
      "cell_type": "code",
      "source": [
        "' python '.strip()"
      ],
      "metadata": {
        "colab": {
          "base_uri": "https://localhost:8080/",
          "height": 35
        },
        "id": "OaZEj-F025fJ",
        "outputId": "c3f8654f-61c3-4366-949b-c8f1e192775f"
      },
      "execution_count": 84,
      "outputs": [
        {
          "output_type": "execute_result",
          "data": {
            "text/plain": [
              "'python'"
            ],
            "application/vnd.google.colaboratory.intrinsic+json": {
              "type": "string"
            }
          },
          "metadata": {},
          "execution_count": 84
        }
      ]
    },
    {
      "cell_type": "code",
      "source": [
        "'I like apple'.replace('apple', 'banana')"
      ],
      "metadata": {
        "colab": {
          "base_uri": "https://localhost:8080/",
          "height": 35
        },
        "id": "pP0NB6i33S9q",
        "outputId": "c9a252f4-dd58-4033-efc3-4aa8f185b9b3"
      },
      "execution_count": 85,
      "outputs": [
        {
          "output_type": "execute_result",
          "data": {
            "text/plain": [
              "'I like banana'"
            ],
            "application/vnd.google.colaboratory.intrinsic+json": {
              "type": "string"
            }
          },
          "metadata": {},
          "execution_count": 85
        }
      ]
    },
    {
      "cell_type": "code",
      "source": [
        "'a,b,c'.split(',')"
      ],
      "metadata": {
        "colab": {
          "base_uri": "https://localhost:8080/"
        },
        "id": "jWmwqFLg3ZUI",
        "outputId": "c0bcc5a1-a739-4b16-bb0b-dfae3964da34"
      },
      "execution_count": 86,
      "outputs": [
        {
          "output_type": "execute_result",
          "data": {
            "text/plain": [
              "['a', 'b', 'c']"
            ]
          },
          "metadata": {},
          "execution_count": 86
        }
      ]
    },
    {
      "cell_type": "code",
      "source": [
        "ord('a')"
      ],
      "metadata": {
        "colab": {
          "base_uri": "https://localhost:8080/"
        },
        "id": "KK32rX1z3kmB",
        "outputId": "81b5e03b-29f2-4ff5-876e-0e33f7c0cb79"
      },
      "execution_count": 87,
      "outputs": [
        {
          "output_type": "execute_result",
          "data": {
            "text/plain": [
              "97"
            ]
          },
          "metadata": {},
          "execution_count": 87
        }
      ]
    },
    {
      "cell_type": "code",
      "source": [
        "ord('A')"
      ],
      "metadata": {
        "colab": {
          "base_uri": "https://localhost:8080/"
        },
        "id": "C7_t362C4L4w",
        "outputId": "3e462605-8198-4f57-fff3-333f21238edc"
      },
      "execution_count": 88,
      "outputs": [
        {
          "output_type": "execute_result",
          "data": {
            "text/plain": [
              "65"
            ]
          },
          "metadata": {},
          "execution_count": 88
        }
      ]
    },
    {
      "cell_type": "code",
      "source": [
        "ans = input(\"데이터를 입력하세요\")\n",
        "if ans.isalpha():\n",
        "  print(\"문자입니다\")\n",
        "else:\n",
        "  print(\"숫자입니다\")"
      ],
      "metadata": {
        "colab": {
          "base_uri": "https://localhost:8080/"
        },
        "id": "6i3HUY_14NRg",
        "outputId": "a6271eca-b1f2-4114-bc62-0d84e2cd9f24"
      },
      "execution_count": 95,
      "outputs": [
        {
          "output_type": "stream",
          "name": "stdout",
          "text": [
            "데이터를 입력하세요758\n",
            "숫자입니다\n"
          ]
        }
      ]
    },
    {
      "cell_type": "code",
      "source": [
        "dynasties = [\n",
        "    '태조', '정종', '태종', '세종', '문종', '단종', '세조', '예종', '성종', '연산군',\n",
        "    '중종', '인종', '명종', '선조', '광해군', '인조', '효종', '현종', '숙종', '경종',\n",
        "    '영조', '정조', '순조', '헌종', '철종', '고종', '순종'\n",
        "]\n",
        "q = input(\"순번 또는 왕의 이름을 입력하세요\")\n",
        "if q.isdigit():\n",
        "  i = int(q)\n",
        "  print(dynasties[i-1])\n",
        "else:\n",
        "  print(dynasties.index(q) + 1)"
      ],
      "metadata": {
        "colab": {
          "base_uri": "https://localhost:8080/"
        },
        "id": "-QdRN2Oy455p",
        "outputId": "3bec2078-85de-41c4-8e80-34cea3290af8"
      },
      "execution_count": 105,
      "outputs": [
        {
          "output_type": "stream",
          "name": "stdout",
          "text": [
            "순번 또는 왕의 이름을 입력하세요태종\n",
            "3\n"
          ]
        }
      ]
    },
    {
      "cell_type": "code",
      "source": [
        "#리스트 []    /리스트는 수정 가능\n",
        "#튜플 ()    / 튜플은 수정 불가\n",
        "#딕셔너리 {}    /키와 값 쌍으로 이루어짐. 키가 중복되면 마지막 정의값만 남음.  /접근 시 변수명 뒤에 대괄호[] 사용"
      ],
      "metadata": {
        "id": "Sprts1DZ7Cjm"
      },
      "execution_count": 106,
      "outputs": []
    },
    {
      "cell_type": "code",
      "source": [
        "coffee = {'아메리카노' : 2000, '라떼' : 3000, '녹차' : 2500}"
      ],
      "metadata": {
        "id": "WLupSOWy9Djr"
      },
      "execution_count": 107,
      "outputs": []
    },
    {
      "cell_type": "code",
      "source": [
        "coffee['아메리카노']"
      ],
      "metadata": {
        "colab": {
          "base_uri": "https://localhost:8080/"
        },
        "id": "uUUQJcOT-zSK",
        "outputId": "e2f9f9cc-2442-4640-d1b5-8b688a5e7f8d"
      },
      "execution_count": 109,
      "outputs": [
        {
          "output_type": "execute_result",
          "data": {
            "text/plain": [
              "2000"
            ]
          },
          "metadata": {},
          "execution_count": 109
        }
      ]
    },
    {
      "cell_type": "code",
      "source": [
        "# for 인덱스 in 리스트:\n",
        "# for 키 in 딕셔너리"
      ],
      "metadata": {
        "id": "f5di-09S-7ap"
      },
      "execution_count": 113,
      "outputs": []
    },
    {
      "cell_type": "code",
      "source": [
        "for k in coffee:\n",
        "  print(k)"
      ],
      "metadata": {
        "colab": {
          "base_uri": "https://localhost:8080/"
        },
        "id": "b4W8cyR7_QMs",
        "outputId": "3747f68e-f5b6-4d78-f4df-e4045577082e"
      },
      "execution_count": 111,
      "outputs": [
        {
          "output_type": "stream",
          "name": "stdout",
          "text": [
            "아메리카노\n",
            "라떼\n",
            "녹차\n"
          ]
        }
      ]
    },
    {
      "cell_type": "code",
      "source": [
        "for k in coffee:\n",
        "  print(coffee[k])"
      ],
      "metadata": {
        "colab": {
          "base_uri": "https://localhost:8080/"
        },
        "id": "_wkqIzIC_dCJ",
        "outputId": "459f451b-54b6-41e0-824e-071dc8469cb9"
      },
      "execution_count": 112,
      "outputs": [
        {
          "output_type": "stream",
          "name": "stdout",
          "text": [
            "2000\n",
            "3000\n",
            "2500\n"
          ]
        }
      ]
    },
    {
      "cell_type": "code",
      "source": [
        "for k, v in coffee.items():\n",
        "  print(k, v)"
      ],
      "metadata": {
        "colab": {
          "base_uri": "https://localhost:8080/"
        },
        "id": "fbATFBix_ktB",
        "outputId": "b74e8b88-9b3f-41b5-8839-8fc771e4495e"
      },
      "execution_count": 117,
      "outputs": [
        {
          "output_type": "stream",
          "name": "stdout",
          "text": [
            "아메리카노 2000\n",
            "라떼 3000\n",
            "녹차 2500\n"
          ]
        }
      ]
    },
    {
      "cell_type": "code",
      "source": [
        "score = {'홍길동' : 100, '이순신' : 90, '강감찬' : 80}\n",
        "#점수 합계와 평균, 가장 높은 점수를 받은 학생의 이름\n",
        "\n",
        "print(sum(score.values()))"
      ],
      "metadata": {
        "colab": {
          "base_uri": "https://localhost:8080/",
          "height": 184
        },
        "id": "YVQHl31v_zKx",
        "outputId": "31259403-7d10-46b2-f9e3-01ca762a79bc"
      },
      "execution_count": 124,
      "outputs": [
        {
          "output_type": "error",
          "ename": "TypeError",
          "evalue": "'int' object is not callable",
          "traceback": [
            "\u001b[0;31m---------------------------------------------------------------------------\u001b[0m",
            "\u001b[0;31mTypeError\u001b[0m                                 Traceback (most recent call last)",
            "\u001b[0;32m/tmp/ipython-input-932961207.py\u001b[0m in \u001b[0;36m<cell line: 0>\u001b[0;34m()\u001b[0m\n\u001b[1;32m      2\u001b[0m \u001b[0;31m#점수 합계와 평균, 가장 높은 점수를 받은 학생의 이름\u001b[0m\u001b[0;34m\u001b[0m\u001b[0;34m\u001b[0m\u001b[0m\n\u001b[1;32m      3\u001b[0m \u001b[0;34m\u001b[0m\u001b[0m\n\u001b[0;32m----> 4\u001b[0;31m \u001b[0mprint\u001b[0m\u001b[0;34m(\u001b[0m\u001b[0msum\u001b[0m\u001b[0;34m(\u001b[0m\u001b[0mscore\u001b[0m\u001b[0;34m.\u001b[0m\u001b[0mvalues\u001b[0m\u001b[0;34m(\u001b[0m\u001b[0;34m)\u001b[0m\u001b[0;34m)\u001b[0m\u001b[0;34m)\u001b[0m\u001b[0;34m\u001b[0m\u001b[0;34m\u001b[0m\u001b[0m\n\u001b[0m",
            "\u001b[0;31mTypeError\u001b[0m: 'int' object is not callable"
          ]
        }
      ]
    },
    {
      "cell_type": "code",
      "source": [],
      "metadata": {
        "id": "DkNXXM6jBpy_"
      },
      "execution_count": null,
      "outputs": []
    }
  ]
}