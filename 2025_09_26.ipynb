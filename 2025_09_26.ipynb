{
  "nbformat": 4,
  "nbformat_minor": 0,
  "metadata": {
    "colab": {
      "provenance": [],
      "authorship_tag": "ABX9TyPx2DC6UyWDhxfWq74pzbIj",
      "include_colab_link": true
    },
    "kernelspec": {
      "name": "python3",
      "display_name": "Python 3"
    },
    "language_info": {
      "name": "python"
    }
  },
  "cells": [
    {
      "cell_type": "markdown",
      "metadata": {
        "id": "view-in-github",
        "colab_type": "text"
      },
      "source": [
        "<a href=\"https://colab.research.google.com/github/coconut4292/aipython/blob/main/2025_09_26.ipynb\" target=\"_parent\"><img src=\"https://colab.research.google.com/assets/colab-badge.svg\" alt=\"Open In Colab\"/></a>"
      ]
    },
    {
      "cell_type": "code",
      "metadata": {
        "colab": {
          "base_uri": "https://localhost:8080/"
        },
        "id": "06dbae07",
        "outputId": "3ffaf323-bf24-40e3-b41c-9decd604292f"
      },
      "source": [
        "print(f\"10 % 3 = {10 % 3}\")\n",
        "print(f\"15 % 4 = {15 % 4}\")\n",
        "print(f\"7 % 2 = {7 % 2}\")"
      ],
      "execution_count": 12,
      "outputs": [
        {
          "output_type": "stream",
          "name": "stdout",
          "text": [
            "10 % 3 = 1\n",
            "15 % 4 = 3\n",
            "7 % 2 = 1\n"
          ]
        }
      ]
    },
    {
      "cell_type": "code",
      "metadata": {
        "colab": {
          "base_uri": "https://localhost:8080/"
        },
        "id": "30b76d59",
        "outputId": "6cd60a11-80db-4736-88a2-834fe8e2faaf"
      },
      "source": [
        "a = 10\n",
        "b = 5\n",
        "\n",
        "print(f\"a == b: {a == b}\") # 같은지 비교\n",
        "print(f\"a != b: {a != b}\") # 다른지 비교\n",
        "print(f\"a > b: {a > b}\")   # a가 b보다 큰지 비교\n",
        "print(f\"a < b: {a < b}\")   # a가 b보다 작은지 비교\n",
        "print(f\"a >= b: {a >= b}\") # a가 b보다 크거나 같은지 비교\n",
        "print(f\"a <= b: {a <= b}\") # a가 b보다 작거나 같은지 비교"
      ],
      "execution_count": 13,
      "outputs": [
        {
          "output_type": "stream",
          "name": "stdout",
          "text": [
            "a == b: False\n",
            "a != b: True\n",
            "a > b: True\n",
            "a < b: False\n",
            "a >= b: True\n",
            "a <= b: False\n"
          ]
        }
      ]
    },
    {
      "cell_type": "code",
      "execution_count": 17,
      "metadata": {
        "colab": {
          "base_uri": "https://localhost:8080/"
        },
        "id": "le_cJS6RZ57s",
        "outputId": "6db1894f-dc80-4ffd-f4c7-427d6a40ca86"
      },
      "outputs": [
        {
          "output_type": "stream",
          "name": "stdout",
          "text": [
            "숫자를 입력하세요: 7\n",
            "홀수입니다\n"
          ]
        }
      ],
      "source": [
        "num = int(input(\"숫자를 입력하세요: \"))\n",
        "if num % 2 == 0 :\n",
        "  print(\"짝수입니다\")\n",
        "else :\n",
        "  print(\"홀수입니다\")"
      ]
    },
    {
      "cell_type": "code",
      "source": [
        "height1 = int(input(\"첫 번째 학생의 키를 입력하세요: \"))\n",
        "height2 = int(input(\"두 번째 학생의 키를 입력하세요: \"))\n",
        "if height1 > height2 :\n",
        "  diff = height1 - height2\n",
        "else:\n",
        "  diff = height2 - height1\n",
        "\n",
        "print(\"두 학생의 키 차이는\", diff, \"입니다.\")"
      ],
      "metadata": {
        "colab": {
          "base_uri": "https://localhost:8080/"
        },
        "id": "uc-BPUChfPqj",
        "outputId": "51cfb48b-d760-4a1b-ec34-2905403bfc01"
      },
      "execution_count": 21,
      "outputs": [
        {
          "output_type": "stream",
          "name": "stdout",
          "text": [
            "첫 번째 학생의 키를 입력하세요: 159\n",
            "두 번째 학생의 키를 입력하세요: 173\n",
            "두 학생의 키 차이는 14 입니다.\n"
          ]
        }
      ]
    },
    {
      "cell_type": "code",
      "source": [
        "x = 10\n",
        "y = 5\n",
        "is_valid = True\n",
        "\n",
        "# and 연산자: 두 조건 모두 참일 때만 참\n",
        "print(f\"(x > 5) and (y < 10): {(x > 5) and (y < 10)}\") # True and True -> True\n",
        "print(f\"(x < 5) and (y < 10): {(x < 5) and (y < 10)}\") # False and True -> False\n",
        "\n",
        "# or 연산자: 두 조건 중 하나라도 참이면 참\n",
        "print(f\"(x < 5) or (y < 10): {(x < 5) or (y < 10)}\")   # False or True -> True\n",
        "print(f\"(x < 5) or (y > 10): {(x < 5) or (y > 10)}\")   # False or False -> False\n",
        "\n",
        "# not 연산자: 조건의 결과를 반대로 만듦\n",
        "print(f\"not is_valid: {not is_valid}\")               # not True -> False\n",
        "print(f\"not (x > 5): {not (x > 5)}\")                 # not True -> False"
      ],
      "metadata": {
        "colab": {
          "base_uri": "https://localhost:8080/"
        },
        "id": "LgWRtHLZkU9M",
        "outputId": "ea49c392-fda0-43d3-912f-2fbc05dac06e"
      },
      "execution_count": 28,
      "outputs": [
        {
          "output_type": "stream",
          "name": "stdout",
          "text": [
            "(x > 5) and (y < 10): True\n",
            "(x < 5) and (y < 10): False\n",
            "(x < 5) or (y < 10): True\n",
            "(x < 5) or (y > 10): False\n",
            "not is_valid: False\n",
            "not (x > 5): False\n"
          ]
        }
      ]
    },
    {
      "cell_type": "code",
      "source": [
        "age = int(input(\"나이를 입력하세요: \"))\n",
        "fee = 5000\n",
        "if age < 8 or age >= 65 :\n",
        "  fee = 0\n",
        "elif age >= 8 and age < 14 :\n",
        "  fee = fee * 0.5\n",
        "elif age >= 14 and age < 19 :\n",
        "  fee = fee * 0.75\n",
        "else :\n",
        "  fee = fee\n",
        "print(\"입장료는 \", int(fee), \"원입니다\")"
      ],
      "metadata": {
        "colab": {
          "base_uri": "https://localhost:8080/"
        },
        "id": "MhYhm07XhAPr",
        "outputId": "283e2191-5220-4c4d-ecb9-5ec712a8ca3b"
      },
      "execution_count": 29,
      "outputs": [
        {
          "output_type": "stream",
          "name": "stdout",
          "text": [
            "나이를 입력하세요: 18\n",
            "입장료는  3750 원입니다\n"
          ]
        }
      ]
    },
    {
      "cell_type": "code",
      "source": [
        "#점수(0점~ 100점)를 입력받아서 ABCD로 학점을 출력하시오\n",
        "#조건 A는 90점 이상, B는 70점 이상, C는 60점 이상, 그 이하는 D\n",
        "num = int(input(\"점수를 입력하세요: \"))\n",
        "if num < 0 or num > 100:\n",
        "  print(\"잘못된 점수입니다. 다시 입력해주세요.\")\n",
        "elif num >=90 :\n",
        "  print(\"A학점입니다.\")\n",
        "elif num >=70 :\n",
        "  print(\"B학점입니다.\")\n",
        "elif num >=60 :\n",
        "  print(\"C학점입니다.\")\n",
        "else :\n",
        "  print(\"D학점입니다.\")"
      ],
      "metadata": {
        "colab": {
          "base_uri": "https://localhost:8080/"
        },
        "id": "FvZyvaialaPc",
        "outputId": "982a0432-989e-4657-9b56-20910c7a3519"
      },
      "execution_count": 45,
      "outputs": [
        {
          "output_type": "stream",
          "name": "stdout",
          "text": [
            "점수를 입력하세요: 60\n",
            "C학점입니다.\n"
          ]
        }
      ]
    },
    {
      "cell_type": "code",
      "source": [
        "#if문 안에 if문을 넣어 중첩으로 사용 가능"
      ],
      "metadata": {
        "id": "b9a4D5HzoCl8"
      },
      "execution_count": 46,
      "outputs": []
    },
    {
      "cell_type": "code",
      "metadata": {
        "colab": {
          "base_uri": "https://localhost:8080/"
        },
        "id": "ef214ee9",
        "outputId": "82bf0153-1ab1-46d6-af39-c7506644d1db"
      },
      "source": [
        "# range() 함수를 사용한 for 루프 예시\n",
        "print(\"range(5) 사용:\")\n",
        "for i in range(5):\n",
        "    print(i)\n",
        "\n",
        "print(\"\\nrange(2, 8) 사용:\")\n",
        "for j in range(2, 8): # 2부터 7까지 (8은 포함 안됨)\n",
        "    print(j)\n",
        "\n",
        "print(\"\\nrange(1, 10, 2) 사용:\")\n",
        "for k in range(1, 10, 2): # 1부터 9까지, 2씩 증가\n",
        "    print(k)"
      ],
      "execution_count": 47,
      "outputs": [
        {
          "output_type": "stream",
          "name": "stdout",
          "text": [
            "range(5) 사용:\n",
            "0\n",
            "1\n",
            "2\n",
            "3\n",
            "4\n",
            "\n",
            "range(2, 8) 사용:\n",
            "2\n",
            "3\n",
            "4\n",
            "5\n",
            "6\n",
            "7\n",
            "\n",
            "range(1, 10, 2) 사용:\n",
            "1\n",
            "3\n",
            "5\n",
            "7\n",
            "9\n"
          ]
        }
      ]
    },
    {
      "cell_type": "code",
      "metadata": {
        "colab": {
          "base_uri": "https://localhost:8080/"
        },
        "id": "0c919573",
        "outputId": "9b826e65-fdd3-4bbc-9aa8-66a4069e38b9"
      },
      "source": [
        "# 리스트를 순회하는 for 루프 예시\n",
        "fruits = [\"apple\", \"banana\", \"cherry\"]\n",
        "print(\"과일 리스트 순회:\")\n",
        "for fruit in fruits:\n",
        "    print(fruit)\n",
        "\n",
        "# 문자열 순회 예시\n",
        "word = \"Python\"\n",
        "print(\"\\n문자열 순회:\")\n",
        "for char in word:\n",
        "    print(char)"
      ],
      "execution_count": 48,
      "outputs": [
        {
          "output_type": "stream",
          "name": "stdout",
          "text": [
            "과일 리스트 순회:\n",
            "apple\n",
            "banana\n",
            "cherry\n",
            "\n",
            "문자열 순회:\n",
            "P\n",
            "y\n",
            "t\n",
            "h\n",
            "o\n",
            "n\n"
          ]
        }
      ]
    },
    {
      "cell_type": "code",
      "source": [
        "sum = 0    #합을 저장하는 변수. 0으로 초기화해둔 것임\n",
        "for a in range(1, 6):#range(1. 6)으로 시작값과 끝값을 지정하면 끝값은 포함되지 않으므로 1부터 5까지만 나옴.\n",
        "  sum = sum + a\n",
        "print(\"1부터 5까지의 합은\", sum, \"입니다.\")"
      ],
      "metadata": {
        "colab": {
          "base_uri": "https://localhost:8080/"
        },
        "id": "HQZZtdGfq-oF",
        "outputId": "32fb51d4-cd5d-47b6-dd80-becb69356836"
      },
      "execution_count": 52,
      "outputs": [
        {
          "output_type": "stream",
          "name": "stdout",
          "text": [
            "1부터 5까지의 합은 15 입니다.\n"
          ]
        }
      ]
    },
    {
      "cell_type": "code",
      "source": [
        "#짝수와 홀수의 합을 나누어 구하기(따로)\n",
        "sum = 0\n",
        "for a in range(1, 100, 2) :\n",
        "  sum = sum + a\n",
        "print(\"1부터 100까지의 홀수의 합은\", sum, \"입니다.\")\n",
        "sum = 0\n",
        "for b in range(2, 101, 2) :\n",
        "  sum = sum + b\n",
        "print(\"1부터 100까지의 짝수의 합은\", sum, \"입니다.\")"
      ],
      "metadata": {
        "colab": {
          "base_uri": "https://localhost:8080/"
        },
        "id": "Dt2_8IudyS5G",
        "outputId": "0981cf88-48a1-48a1-ca35-fbf3b6ee7534"
      },
      "execution_count": 59,
      "outputs": [
        {
          "output_type": "stream",
          "name": "stdout",
          "text": [
            "1부터 100까지의 홀수의 합은 2500 입니다.\n",
            "1부터 100까지의 짝수의 합은 2550 입니다.\n"
          ]
        }
      ]
    },
    {
      "cell_type": "code",
      "source": [
        "#짝수와 홀수의 합을 나누어 구하기(함께)\n",
        "sum1 = 0 #짝수 합    / 변수의 이름을 1,2를 뒤에붙여 구분하는 것보단 특정 이름을 붙여서 하는 것이 나음\n",
        "sum2 = 0 #홀수 합\n",
        "for a in range(1, 101) :\n",
        "  if a % 2 == 0 :\n",
        "    sum1 = sum1 + a\n",
        "  else :\n",
        "    sum2 = sum2 + a\n",
        "print(\"1부터 100까지의 짝수의 합은\", sum1, \"입니다.\")\n",
        "print(\"1부터 100까지의 홀수의 합은\", sum2, \"입니다.\")"
      ],
      "metadata": {
        "colab": {
          "base_uri": "https://localhost:8080/"
        },
        "id": "smEMGJfIzHI2",
        "outputId": "b8e42ceb-691f-4898-f347-73eeb6ada2be"
      },
      "execution_count": 60,
      "outputs": [
        {
          "output_type": "stream",
          "name": "stdout",
          "text": [
            "1부터 100까지의 짝수의 합은 2550 입니다.\n",
            "1부터 100까지의 홀수의 합은 2500 입니다.\n"
          ]
        }
      ]
    },
    {
      "cell_type": "code",
      "source": [
        "sum = 0               #초기값을 지정 후 5만원을 모을 때까지 저금. 단, 하루가 지날 때마다 저금액100원 증가\n",
        "money = 100          #저금총액, 저금액, 날짜 지정. 주의점 : while 문은 무한루프에 빠지지 않도록 주의\n",
        "day = 1             #sum이나 day도 함께 증가시켜 무한루프 빠지지 않도록 주의하기\n",
        "while sum < 50000 :\n",
        "  sum = sum + money\n",
        "  money = money + 100\n",
        "  day = day + 1\n",
        "print(\"총\", day, \"일이 걸립니다.\")"
      ],
      "metadata": {
        "colab": {
          "base_uri": "https://localhost:8080/"
        },
        "id": "6w77xlh3vnh2",
        "outputId": "d9cd179f-1b34-4019-b1e6-10f8b8b6acf7"
      },
      "execution_count": 53,
      "outputs": [
        {
          "output_type": "stream",
          "name": "stdout",
          "text": [
            "총 33 일이 걸립니다.\n"
          ]
        }
      ]
    },
    {
      "cell_type": "code",
      "source": [
        "sum = 0\n",
        "num = int(input(\"숫자를 입력하세요.\"))\n",
        "while num != 0 :\n",
        "  sum = sum + num\n",
        "  num = int(input(\"숫자를 입력하세요.\"))\n",
        "print(\"총 합은\", sum, \"입니다.\")"
      ],
      "metadata": {
        "colab": {
          "base_uri": "https://localhost:8080/"
        },
        "id": "p5oiIK_T2pFW",
        "outputId": "7d086183-219c-4352-8fe5-6797219b5f46"
      },
      "execution_count": 74,
      "outputs": [
        {
          "output_type": "stream",
          "name": "stdout",
          "text": [
            "숫자를 입력하세요.13\n",
            "숫자를 입력하세요.46\n",
            "숫자를 입력하세요.69\n",
            "숫자를 입력하세요.66\n",
            "숫자를 입력하세요.1\n",
            "숫자를 입력하세요.0\n",
            "총 합은 195 입니다.\n"
          ]
        }
      ]
    }
  ]
}