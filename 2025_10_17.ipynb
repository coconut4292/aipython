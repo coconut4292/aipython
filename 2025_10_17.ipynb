{
  "nbformat": 4,
  "nbformat_minor": 0,
  "metadata": {
    "colab": {
      "provenance": [],
      "authorship_tag": "ABX9TyOASiGxPY7gEoFhRpxIC4LA",
      "include_colab_link": true
    },
    "kernelspec": {
      "name": "python3",
      "display_name": "Python 3"
    },
    "language_info": {
      "name": "python"
    }
  },
  "cells": [
    {
      "cell_type": "markdown",
      "metadata": {
        "id": "view-in-github",
        "colab_type": "text"
      },
      "source": [
        "<a href=\"https://colab.research.google.com/github/coconut4292/aipython/blob/main/2025_10_17.ipynb\" target=\"_parent\"><img src=\"https://colab.research.google.com/assets/colab-badge.svg\" alt=\"Open In Colab\"/></a>"
      ]
    },
    {
      "cell_type": "code",
      "execution_count": 7,
      "metadata": {
        "colab": {
          "base_uri": "https://localhost:8080/"
        },
        "id": "fwOptRC-htS5",
        "outputId": "becd7c20-2e9d-4e78-e863-1d0a9f166cba"
      },
      "outputs": [
        {
          "output_type": "stream",
          "name": "stdout",
          "text": [
            "△ 알림 도착: 친구에게 메시지가 왔어요.\n"
          ]
        }
      ],
      "source": [
        "# def 함수이름():\n",
        "#   실행할 코드\n",
        "\n",
        "def print_notification_prefix():\n",
        "  print(\"△ 알림 도착: \", end=\"\")\n",
        "print_notification_prefix()\n",
        "print(\"친구에게 메시지가 왔어요.\")"
      ]
    },
    {
      "cell_type": "code",
      "source": [
        "def coffee_order(menu): # 'menu'라는 문자열을 입력으로 받습니다.\n",
        "  if menu == \"아메리카노\":\n",
        "    #처리 결과에 따라 다른 출력을 return 합니다.\n",
        "    return \"진한 에스프레소에 시원한 물 한 잔 추가했어요!\"\n",
        "  elif menu == \"라떼\":\n",
        "    return \"부드러운 우유 거품과 함께 나갑니다.\"\n",
        "  elif menu == \"바닐라라떼\":\n",
        "    return \"달콤한 바닐라 향으로 기분 좋은 하루 시작하세요!\"\n",
        "  else:\n",
        "    return \"죄송해요, 해당 메뉴는 준비되지 않았어요.\"\n",
        "drink = input(\"무슨 커피를 주문하시겠어요? \")\n",
        "response = coffee_order(drink) # 사용자의 입력을 함수에 전달하고, 반환값을 받습니다.\n",
        "print(response)"
      ],
      "metadata": {
        "colab": {
          "base_uri": "https://localhost:8080/"
        },
        "id": "6YAppa4onl87",
        "outputId": "8f6fb39c-e7f8-4dd5-93b2-ec40de623fa6"
      },
      "execution_count": 9,
      "outputs": [
        {
          "output_type": "stream",
          "name": "stdout",
          "text": [
            "무슨 커피를 주문하시겠어요? 라떼\n",
            "부드러운 우유 거품과 함께 나갑니다.\n"
          ]
        }
      ]
    },
    {
      "cell_type": "code",
      "source": [
        "def introduce(name, age):\n",
        "  print(f\"안녕하세요, 제 이름은 {name}이고, 나이는 {age}살이에요.\")\n",
        "# 함수 호출 시 두 개의 값을 순서에 맞게 전달합니다.\n",
        "introduce(\"홍길동\", 15)"
      ],
      "metadata": {
        "colab": {
          "base_uri": "https://localhost:8080/"
        },
        "id": "Ys-TrLGVqDbX",
        "outputId": "802fc6d1-d4bf-47df-d226-8c51e48f562c"
      },
      "execution_count": 10,
      "outputs": [
        {
          "output_type": "stream",
          "name": "stdout",
          "text": [
            "안녕하세요, 제 이름은 홍길동이고, 나이는 15살이에요.\n"
          ]
        }
      ]
    },
    {
      "cell_type": "code",
      "source": [
        "def greet(name=\"친구\"):\n",
        "  print(f\"{name}님, 반가워요!\")\n",
        "greet() # 입력값이 없으면 기본값 '친구'가 사용됨 -> \"친구님, 반가워요!\"\n",
        "greet(\"홍길동\") # 입력값이 있으면 전달된 값 '홍길동'이 사용됨 -> \"홍길동님, 반가워요!\"\n"
      ],
      "metadata": {
        "colab": {
          "base_uri": "https://localhost:8080/"
        },
        "id": "avu5u8kpqu0f",
        "outputId": "edb453ea-295f-4177-8715-d6a19ef452e7"
      },
      "execution_count": 11,
      "outputs": [
        {
          "output_type": "stream",
          "name": "stdout",
          "text": [
            "친구님, 반가워요!\n",
            "홍길동님, 반가워요!\n"
          ]
        }
      ]
    },
    {
      "cell_type": "code",
      "source": [
        "def calculate_total_and_average(scores):\n",
        "  total = sum(scores)\n",
        "  average = total / len(scores)\n",
        "  return total, average # 총점과 평균을 함께 반환\n",
        "my_scores = [85, 90, 78, 92]\n",
        "t, avg = calculate_total_and_average(my_scores) # 반환된 두 값을 각각 t와 avg 변수에 저장\n",
        "print(\"총점:\", t)\n",
        "print(\"평균:\", avg)"
      ],
      "metadata": {
        "colab": {
          "base_uri": "https://localhost:8080/"
        },
        "id": "Q1IfA0VtqztO",
        "outputId": "ea181f0a-8195-414c-c5df-241321b60cd8"
      },
      "execution_count": 12,
      "outputs": [
        {
          "output_type": "stream",
          "name": "stdout",
          "text": [
            "총점: 345\n",
            "평균: 86.25\n"
          ]
        }
      ]
    },
    {
      "cell_type": "code",
      "source": [
        "def BMI_score(H, W):\n",
        "  BMI = W / (H/100) **2\n",
        "  return round(BMI, 2)\n",
        "tall = float(input(\"키를 입력해주세요(cm):\"))\n",
        "weight = float(input(\"몸무게를 입력해주세요(kg):\"))\n",
        "\n",
        "print(BMI_score(tall, weight))"
      ],
      "metadata": {
        "colab": {
          "base_uri": "https://localhost:8080/"
        },
        "id": "ipXdkH4SrS4e",
        "outputId": "4dff5607-cb27-4d07-e0fd-5ae1a1d4614d"
      },
      "execution_count": 18,
      "outputs": [
        {
          "output_type": "stream",
          "name": "stdout",
          "text": [
            "키를 입력해주세요(cm):164\n",
            "몸무게를 입력해주세요(kg):46.78\n",
            "17.39\n"
          ]
        }
      ]
    },
    {
      "cell_type": "code",
      "source": [
        "a, b = map(int, input().split())\n",
        "print(a + b)"
      ],
      "metadata": {
        "colab": {
          "base_uri": "https://localhost:8080/"
        },
        "id": "lEYWaxSoteU9",
        "outputId": "8d9d8f8b-ad7f-47eb-c81e-643b1b78ae53"
      },
      "execution_count": 19,
      "outputs": [
        {
          "output_type": "stream",
          "name": "stdout",
          "text": [
            "1 6\n",
            "7\n"
          ]
        }
      ]
    },
    {
      "cell_type": "code",
      "metadata": {
        "colab": {
          "base_uri": "https://localhost:8080/"
        },
        "id": "292f3ab8",
        "outputId": "9266a550-f9e2-460f-d314-a83ac9f25375"
      },
      "source": [
        "# 리스트의 각 요소를 정수로 변환\n",
        "str_numbers = ['1', '2', '3', '4', '5']\n",
        "int_numbers = list(map(int, str_numbers))\n",
        "print(int_numbers)\n",
        "\n",
        "# 리스트의 각 요소에 10을 곱하기\n",
        "numbers = [1, 2, 3, 4, 5]\n",
        "multiplied_numbers = list(map(lambda x: x * 10, numbers))\n",
        "print(multiplied_numbers)\n",
        "\n",
        "# 두 리스트의 같은 위치에 있는 요소 더하기\n",
        "list1 = [1, 2, 3]\n",
        "list2 = [4, 5, 6]\n",
        "added_lists = list(map(lambda x, y: x + y, list1, list2))\n",
        "print(added_lists)"
      ],
      "execution_count": 21,
      "outputs": [
        {
          "output_type": "stream",
          "name": "stdout",
          "text": [
            "[1, 2, 3, 4, 5]\n",
            "[10, 20, 30, 40, 50]\n",
            "[5, 7, 9]\n"
          ]
        }
      ]
    },
    {
      "cell_type": "code",
      "metadata": {
        "colab": {
          "base_uri": "https://localhost:8080/"
        },
        "id": "69339b77",
        "outputId": "606c3c6c-99dd-4ed9-b8cf-355e2a133267"
      },
      "source": [
        "# 기본 사용: 공백을 기준으로 문자열 분리\n",
        "text = \"안녕하세요 반갑습니다\"\n",
        "words = text.split()\n",
        "print(words)\n",
        "\n",
        "# 특정 구분자 사용: 쉼표(,)를 기준으로 문자열 분리\n",
        "data = \"사과,바나나,딸기\"\n",
        "fruits = data.split(\",\")\n",
        "print(fruits)\n",
        "\n",
        "# 특정 구분자와 최대 분할 횟수 지정\n",
        "sentence = \"a-b-c-d\"\n",
        "parts = sentence.split(\"-\", 2) # 처음 2개까지만 분리\n",
        "print(parts)"
      ],
      "execution_count": 20,
      "outputs": [
        {
          "output_type": "stream",
          "name": "stdout",
          "text": [
            "['안녕하세요', '반갑습니다']\n",
            "['사과', '바나나', '딸기']\n",
            "['a', 'b', 'c-d']\n"
          ]
        }
      ]
    },
    {
      "cell_type": "code",
      "source": [
        "# 리스트의 문자열 요소들을 공백으로 연결\n",
        "words = ['Python', 'is', 'fun!']\n",
        "sentence = ' '.join(words)\n",
        "print(sentence)\n",
        "\n",
        "# 리스트의 문자열 요소들을 쉼표와 공백으로 연결\n",
        "fruits = ['apple', 'banana', 'cherry']\n",
        "fruits_string = ', '.join(fruits)\n",
        "print(fruits_string)\n",
        "\n",
        "# 숫자로 이루어진 리스트를 문자열로 변환하여 연결 (map 사용)\n",
        "numbers = [1, 2, 3, 4, 5]\n",
        "numbers_string = ''.join(map(str, numbers))\n",
        "print(numbers_string)"
      ],
      "metadata": {
        "colab": {
          "base_uri": "https://localhost:8080/"
        },
        "id": "ZS4Zcghm4DzI",
        "outputId": "a22a4fe1-504f-4ffd-a451-2825baa8062c"
      },
      "execution_count": 22,
      "outputs": [
        {
          "output_type": "stream",
          "name": "stdout",
          "text": [
            "Python is fun!\n",
            "apple, banana, cherry\n",
            "12345\n"
          ]
        }
      ]
    },
    {
      "cell_type": "code",
      "source": [
        "email = \"user@example.com\"\n",
        "username, domain = email.split('@')\n",
        "print(f\"사용자명 : {username}, 도메인 : {domain}\")"
      ],
      "metadata": {
        "colab": {
          "base_uri": "https://localhost:8080/"
        },
        "id": "jbFtOccv5c1P",
        "outputId": "73148680-4f99-41cf-db8d-a77658f39ae0"
      },
      "execution_count": 24,
      "outputs": [
        {
          "output_type": "stream",
          "name": "stdout",
          "text": [
            "사용자명 : user, 도메인 : example.com\n"
          ]
        }
      ]
    },
    {
      "cell_type": "code",
      "source": [
        "csv_data = \"김철수,30,서울,개발자\"\n",
        "data_list = csv_data.split(\",\")\n",
        "print(f\"분리된 데이터 : {data_list}\")"
      ],
      "metadata": {
        "colab": {
          "base_uri": "https://localhost:8080/"
        },
        "id": "Y2zCj1NY53Un",
        "outputId": "b044ef3c-1d16-465a-cd2a-d451ed859ff6"
      },
      "execution_count": 25,
      "outputs": [
        {
          "output_type": "stream",
          "name": "stdout",
          "text": [
            "분리된 데이터 : ['김철수', '30', '서울', '개발자']\n"
          ]
        }
      ]
    },
    {
      "cell_type": "code",
      "source": [
        "folders = [\"home\",\"user\",\"documents\",\"project\"]\n",
        "path = '/'.join(folders)\n",
        "print(f\"경로:{path}\")"
      ],
      "metadata": {
        "colab": {
          "base_uri": "https://localhost:8080/"
        },
        "id": "HKX3I6xg6VVY",
        "outputId": "00f12b30-bc44-4b3a-9164-ba1a69fb5bf4"
      },
      "execution_count": 31,
      "outputs": [
        {
          "output_type": "stream",
          "name": "stdout",
          "text": [
            "경로:home/user/documents/project\n"
          ]
        }
      ]
    },
    {
      "cell_type": "code",
      "source": [
        "words = [\"Python\", \"is\", \"awesome\"]\n",
        "sentence = \" \".join(words)\n",
        "print(f\"문장: {sentence}\")\n",
        "print(\"\\n\" + \"=\" * 60)\n",
        "print(\"2. List Comprehension - 한 줄로 리스트 만들기\")\n",
        "print(\"=\" * 60)"
      ],
      "metadata": {
        "colab": {
          "base_uri": "https://localhost:8080/"
        },
        "id": "D6FZ_Wfe60XX",
        "outputId": "6d319a36-381f-4fce-89e6-1a18be925a6d"
      },
      "execution_count": 30,
      "outputs": [
        {
          "output_type": "stream",
          "name": "stdout",
          "text": [
            "문장: Python is awesome\n",
            "\n",
            "============================================================\n",
            "2. List Comprehension - 한 줄로 리스트 만들기\n",
            "============================================================\n"
          ]
        }
      ]
    },
    {
      "cell_type": "code",
      "source": [
        "multiples_of_3 = [x for x in range(1, 21) if x % 3 == 0]\n",
        "print(f\"3의 배수 : {multiples_of_3}\")"
      ],
      "metadata": {
        "colab": {
          "base_uri": "https://localhost:8080/"
        },
        "id": "1rQI3wXO7dJt",
        "outputId": "d14ea233-e0ac-4e78-b247-719edeadbfd5"
      },
      "execution_count": 34,
      "outputs": [
        {
          "output_type": "stream",
          "name": "stdout",
          "text": [
            "3의 배수 : [3, 6, 9, 12, 15, 18]\n"
          ]
        }
      ]
    },
    {
      "cell_type": "code",
      "metadata": {
        "colab": {
          "base_uri": "https://localhost:8080/"
        },
        "id": "73e63286",
        "outputId": "61c7f8a7-ce53-4d20-9726-204e43caacf8"
      },
      "source": [
        "fruits = ['apple', 'banana', 'cherry']\n",
        "\n",
        "# enumerate를 사용하여 인덱스와 값을 함께 출력\n",
        "for index, fruit in enumerate(fruits):\n",
        "  print(f\"인덱스: {index}, 과일: {fruit}\")\n",
        "\n",
        "# 시작 인덱스 변경\n",
        "for index, fruit in enumerate(fruits, start=1):\n",
        "  print(f\"번호: {index}, 과일: {fruit}\")"
      ],
      "execution_count": 35,
      "outputs": [
        {
          "output_type": "stream",
          "name": "stdout",
          "text": [
            "인덱스: 0, 과일: apple\n",
            "인덱스: 1, 과일: banana\n",
            "인덱스: 2, 과일: cherry\n",
            "번호: 1, 과일: apple\n",
            "번호: 2, 과일: banana\n",
            "번호: 3, 과일: cherry\n"
          ]
        }
      ]
    },
    {
      "cell_type": "code",
      "source": [
        "#zip이 names의 첫 번째 항목과 ages의 첫 번째 항목을, 두 번째 항목끼리, 세 번째 항목끼리 짝지어 주었습니다.\n",
        "names = ['John', 'Jane', 'Doe']\n",
        "ages = [25, 30, 35]\n",
        "for name, age in zip(names, ages):\n",
        " print(f\"{name} is {age} years old.\")"
      ],
      "metadata": {
        "colab": {
          "base_uri": "https://localhost:8080/"
        },
        "id": "-Keb6bav8Tzu",
        "outputId": "0d92af0a-21cb-4941-989f-2827426fdb16"
      },
      "execution_count": 36,
      "outputs": [
        {
          "output_type": "stream",
          "name": "stdout",
          "text": [
            "John is 25 years old.\n",
            "Jane is 30 years old.\n",
            "Doe is 35 years old.\n"
          ]
        }
      ]
    },
    {
      "cell_type": "code",
      "source": [
        "scores = [95, 87, 92, 88]\n",
        "\n",
        "print(\"성적 순위:\")\n",
        "for rank, score in enumerate(scores, 1):\n",
        "  print(f\"{rank}등:{score}점\")"
      ],
      "metadata": {
        "colab": {
          "base_uri": "https://localhost:8080/"
        },
        "id": "_6RqGyIi93Tk",
        "outputId": "544483e8-c962-4d58-d9af-503e665a9034"
      },
      "execution_count": 40,
      "outputs": [
        {
          "output_type": "stream",
          "name": "stdout",
          "text": [
            "성적 순위:\n",
            "1등:95점\n",
            "2등:87점\n",
            "3등:92점\n",
            "4등:88점\n"
          ]
        }
      ]
    },
    {
      "cell_type": "code",
      "source": [
        "students = [\"철수\",\"영희\",\"민수\"]\n",
        "scores = [85,92,78]\n",
        "grades = [\"B\",\"A\",\"C\"]\n",
        "\n",
        "print(\"\\n학생 성적표\")\n",
        "for name, score, grade in zip(students, scores, grades):\n",
        "  print(f\"{name}:{score}점 ({grade}학점)\")"
      ],
      "metadata": {
        "colab": {
          "base_uri": "https://localhost:8080/"
        },
        "id": "uSw5iiJ8-bkF",
        "outputId": "f9e58707-98a8-40cf-90cc-522b7dfcce68"
      },
      "execution_count": 42,
      "outputs": [
        {
          "output_type": "stream",
          "name": "stdout",
          "text": [
            "\n",
            "학생 성적표\n",
            "철수:85점 (B학점)\n",
            "영희:92점 (A학점)\n",
            "민수:78점 (C학점)\n"
          ]
        }
      ]
    },
    {
      "cell_type": "code",
      "source": [
        "numbers = [1, 2, 3, 4]\n",
        "# lambda x: x*2 라는 익명 함수를 numbers의 모든 항목에 적용\n",
        "doubled = list(map(lambda x: x*2, numbers))\n",
        "print(doubled)\n",
        "#map은 lambda x: x*2라는 '임시 함수'를 numbers 리스트의 모든 항목(1, 2, 3, 4)에 하나씩 적용"
      ],
      "metadata": {
        "colab": {
          "base_uri": "https://localhost:8080/"
        },
        "id": "2RWHo99A_X17",
        "outputId": "a11e9f8a-7e7b-4145-b615-4443466c6dfa"
      },
      "execution_count": 44,
      "outputs": [
        {
          "output_type": "stream",
          "name": "stdout",
          "text": [
            "[2, 4, 6, 8]\n"
          ]
        }
      ]
    },
    {
      "cell_type": "code",
      "source": [
        "celsius = [0,10,20,30,40]\n",
        "fahrenheit = list(map(lambda x: (x * 9/5) + 32, celsius))\n",
        "print(f\"섭씨: {celsius}\")\n",
        "print(f\"화씨: {fahrenheit}\")"
      ],
      "metadata": {
        "colab": {
          "base_uri": "https://localhost:8080/"
        },
        "id": "7Q1A6qUzACa5",
        "outputId": "5451f58b-8733-481b-e60a-e672e2b90785"
      },
      "execution_count": 46,
      "outputs": [
        {
          "output_type": "stream",
          "name": "stdout",
          "text": [
            "섭씨: [0, 10, 20, 30, 40]\n",
            "화씨: [32.0, 50.0, 68.0, 86.0, 104.0]\n"
          ]
        }
      ]
    },
    {
      "cell_type": "code",
      "source": [
        "nums = [1, 2, 3, 4, 5, 6, 7, 8, 9, 10]\n",
        "# x를 2로 나눈 나머지가 0이 아닌 (홀수인) 경우만 True\n",
        "odd_nums = list(filter(lambda x: x % 2 != 0, nums))\n",
        "print(odd_nums)\n",
        "\n",
        "#map이 모든 항목을 변환하는 데 중점을 둔다면, filter는 조건에 맞는 항목만 선택"
      ],
      "metadata": {
        "colab": {
          "base_uri": "https://localhost:8080/"
        },
        "id": "ep-8JtXPA14p",
        "outputId": "408d89b4-e5a0-4097-c2cc-6a6862d43e19"
      },
      "execution_count": 49,
      "outputs": [
        {
          "output_type": "stream",
          "name": "stdout",
          "text": [
            "[1, 3, 5, 7, 9]\n"
          ]
        }
      ]
    },
    {
      "cell_type": "code",
      "source": [
        "numbers = [-5,3,-1,8,0,-3,7]\n",
        "positive = list(filter(lambda x: x > 0 , numbers))\n",
        "print(f\"전체 숫자: {numbers}\")\n",
        "print(f\"양수만: {positive}\")"
      ],
      "metadata": {
        "colab": {
          "base_uri": "https://localhost:8080/"
        },
        "id": "gML1y9DyCAPP",
        "outputId": "afa18959-205d-4ff4-fcfd-b2c2c527a699"
      },
      "execution_count": 50,
      "outputs": [
        {
          "output_type": "stream",
          "name": "stdout",
          "text": [
            "전체 숫자: [-5, 3, -1, 8, 0, -3, 7]\n",
            "양수만: [3, 8, 7]\n"
          ]
        }
      ]
    },
    {
      "cell_type": "code",
      "source": [],
      "metadata": {
        "id": "5w1KETLqCiPP"
      },
      "execution_count": null,
      "outputs": []
    }
  ]
}